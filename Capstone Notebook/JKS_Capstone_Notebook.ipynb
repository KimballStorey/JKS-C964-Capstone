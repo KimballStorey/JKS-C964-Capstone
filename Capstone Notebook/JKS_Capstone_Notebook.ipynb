{
 "cells": [
  {
   "cell_type": "markdown",
   "metadata": {},
   "source": [
    "Install and Import required python modules"
   ]
  },
  {
   "cell_type": "code",
   "execution_count": 21,
   "metadata": {},
   "outputs": [],
   "source": [
    "import ipywidgets as widgets\n",
    "from ipywidgets import interactive\n",
    "from IPython.display import display\n",
    "import pandas as pd\n",
    "import numpy as np\n",
    "import matplotlib.pyplot as plt"
   ]
  },
  {
   "cell_type": "markdown",
   "metadata": {},
   "source": [
    "Import data from .csv file"
   ]
  },
  {
   "cell_type": "code",
   "execution_count": 12,
   "metadata": {},
   "outputs": [],
   "source": [
    "data = pd.read_csv(\"JacketDataset.csv\")\n",
    "npData = pd.DataFrame.to_numpy(data)\n",
    "\n",
    "num_records = npData[-1][0]\n",
    "\n",
    "if num_records == 0:\n",
    "    pass\n",
    "\n",
    "total = num_records * (len(npData[0])-1)"
   ]
  },
  {
   "cell_type": "markdown",
   "metadata": {},
   "source": [
    "Initialize and Declare variables, Clean the data and make it usable"
   ]
  },
  {
   "cell_type": "code",
   "execution_count": 13,
   "metadata": {},
   "outputs": [],
   "source": [
    "domain = [0,10,20,30,40,45,50,55,60,65,70,75,80,90,100]\n",
    "# Index Keys\n",
    "\n",
    "patronId = 0\n",
    "deg0 = 1\n",
    "deg10 = 2\n",
    "deg20 = 3\n",
    "deg30 = 4\n",
    "deg40 = 5\n",
    "deg45 = 6\n",
    "deg50 = 7\n",
    "deg55 = 8\n",
    "deg60 = 9\n",
    "deg65 = 10\n",
    "deg70 = 11\n",
    "deg75 = 12\n",
    "deg80 = 13\n",
    "deg90 = 14\n",
    "deg100 = 15\n",
    "\n",
    "# Temp Totals\n",
    "\n",
    "total_yes = 0\n",
    "total_no = 0\n",
    "total_yes_perc = 0\n",
    "total_no_perc = 0\n",
    "\n",
    "temp0_yes = 0\n",
    "temp10_yes = 0\n",
    "temp20_yes = 0\n",
    "temp30_yes = 0\n",
    "temp40_yes = 0\n",
    "temp45_yes = 0\n",
    "temp50_yes = 0\n",
    "temp55_yes = 0\n",
    "temp60_yes = 0\n",
    "temp65_yes = 0\n",
    "temp70_yes = 0\n",
    "temp75_yes = 0\n",
    "temp80_yes = 0\n",
    "temp90_yes = 0\n",
    "temp100_yes = 0\n",
    "\n",
    "temp0_perc = 0\n",
    "temp10_perc = 0\n",
    "temp20_perc = 0\n",
    "temp30_perc = 0\n",
    "temp40_perc = 0\n",
    "temp45_perc = 0\n",
    "temp50_perc = 0\n",
    "temp55_perc = 0\n",
    "temp60_perc = 0\n",
    "temp65_perc = 0\n",
    "temp70_perc = 0\n",
    "temp75_perc = 0\n",
    "temp80_perc = 0\n",
    "temp90_perc = 0\n",
    "temp100_perc = 0"
   ]
  },
  {
   "cell_type": "markdown",
   "metadata": {},
   "source": [
    "Calculate Total Yes/No from the data"
   ]
  },
  {
   "cell_type": "code",
   "execution_count": 14,
   "metadata": {},
   "outputs": [],
   "source": [
    "for x in npData:\n",
    "    temp0_yes += x[deg0]\n",
    "    temp10_yes += x[deg10]\n",
    "    temp20_yes += x[deg20]\n",
    "    temp30_yes += x[deg30]\n",
    "    temp40_yes += x[deg40]\n",
    "    temp45_yes += x[deg45]\n",
    "    temp50_yes += x[deg50]\n",
    "    temp55_yes += x[deg55]\n",
    "    temp60_yes += x[deg60]\n",
    "    temp65_yes += x[deg65]\n",
    "    temp70_yes += x[deg70]\n",
    "    temp75_yes += x[deg75]\n",
    "    temp80_yes += x[deg80]\n",
    "    temp90_yes += x[deg90]\n",
    "    temp100_yes += x[deg100]\n",
    "\n",
    "temp_yes_list = [\n",
    "    temp0_yes ,\n",
    "    temp10_yes ,\n",
    "    temp20_yes ,\n",
    "    temp30_yes ,\n",
    "    temp40_yes ,\n",
    "    temp45_yes ,\n",
    "    temp50_yes ,\n",
    "    temp55_yes ,\n",
    "    temp60_yes ,\n",
    "    temp65_yes ,\n",
    "    temp70_yes ,\n",
    "    temp75_yes ,\n",
    "    temp80_yes ,\n",
    "    temp90_yes ,\n",
    "    temp100_yes\n",
    "]\n",
    "\n",
    "for x in temp_yes_list:\n",
    "    total_yes += x\n",
    "\n",
    "total_no = total - total_yes\n",
    "total_yes_perc = total_yes / total\n",
    "total_no_perc = total_no / total\n",
    "\n",
    "temp0_perc = temp0_yes / num_records * 100\n",
    "temp10_perc = temp10_yes / num_records * 100\n",
    "temp20_perc = temp20_yes / num_records * 100\n",
    "temp30_perc = temp30_yes / num_records * 100\n",
    "temp40_perc = temp40_yes / num_records * 100\n",
    "temp45_perc = temp45_yes / num_records * 100\n",
    "temp50_perc = temp50_yes / num_records * 100\n",
    "temp55_perc = temp55_yes / num_records * 100\n",
    "temp60_perc = temp60_yes / num_records * 100\n",
    "temp65_perc = temp65_yes / num_records * 100\n",
    "temp70_perc = temp70_yes / num_records * 100\n",
    "temp75_perc = temp75_yes / num_records * 100\n",
    "temp80_perc = temp80_yes / num_records * 100\n",
    "temp90_perc = temp90_yes / num_records * 100\n",
    "temp100_perc = temp100_yes / num_records * 100\n",
    "\n",
    "temp_perc_list = [\n",
    "    temp0_perc,\n",
    "    temp10_perc,\n",
    "    temp20_perc,\n",
    "    temp30_perc,\n",
    "    temp40_perc,\n",
    "    temp45_perc,\n",
    "    temp50_perc,\n",
    "    temp55_perc,\n",
    "    temp60_perc,\n",
    "    temp65_perc,\n",
    "    temp70_perc,\n",
    "    temp75_perc,\n",
    "    temp80_perc,\n",
    "    temp90_perc,\n",
    "    temp100_perc\n",
    "]\n",
    "    "
   ]
  },
  {
   "cell_type": "markdown",
   "metadata": {},
   "source": [
    "Chart 1 Code"
   ]
  },
  {
   "cell_type": "code",
   "execution_count": 15,
   "metadata": {},
   "outputs": [],
   "source": [
    "\n",
    "def chart_one():\n",
    "    chart1_x = domain\n",
    "    chart1_y = temp_perc_list\n",
    "\n",
    "    ax = plt.subplot()\n",
    "\n",
    "    ax.plot(chart1_x, chart1_y, linewidth=2.0)\n",
    "    ax.set(xlim = 100, xticks=domain, xlabel='Temperature (F)', ylim=100, yticks=np.arange(0,110,10), ylabel='Percentage', title='\"YES\" answers as temperature increases from 0 to 100 F' )\n",
    "\n",
    "    plt.show()\n",
    "\n",
    "# chart1_text = widgets.HTML(\n",
    "#         value=\"<h1>Would You Wear a Jacket?</h1>\",\n",
    "#     )\n",
    "\n",
    "# display(chart1_text)\n",
    "\n",
    "# chart_one()"
   ]
  },
  {
   "cell_type": "markdown",
   "metadata": {},
   "source": [
    "Chart 2 Code"
   ]
  },
  {
   "cell_type": "code",
   "execution_count": 16,
   "metadata": {},
   "outputs": [],
   "source": [
    "\n",
    "def chart_two(Degrees = temp50_perc):\n",
    "\n",
    "    perc_yes = Degrees # !!! change this to make the graph dynamic !!! Dropdown ???\n",
    "    perc_no = 100 - perc_yes\n",
    "\n",
    "    x = [perc_yes, perc_no]\n",
    "    colors = plt.get_cmap('Blues')(np.linspace(0.2, 0.7, len(x)))\n",
    "\n",
    "    # plot\n",
    "    fig, ax = plt.subplots()\n",
    "    ax.pie(x, colors=colors, radius=2, center=(3, 3),\n",
    "        labels=['YES {}%'.format(int(perc_yes)), 'NO {}%'.format(int(perc_no))],\n",
    "        labeldistance=0.75,\n",
    "        wedgeprops={\"linewidth\": 1, \"edgecolor\": \"white\"},\n",
    "        frame=False,\n",
    "        )\n",
    "\n",
    "# chart2_text = widgets.HTML(\n",
    "#         value=\"<h1>Select a temperature to view more data from the survey.</h1>\",\n",
    "#     )\n",
    "\n",
    "# display(chart2_text)\n",
    "\n",
    "# widgets.interact(chart_two, Degrees = [('0 F',temp0_perc), ('10 F', temp10_perc), ('20 F', temp20_perc), ('30 F', temp30_perc), ('40 F', temp40_perc), ('45 F', temp45_perc), \n",
    "# ('50 F', temp50_perc), ('55 F', temp55_perc), ('60 F', temp60_perc), ('65 F', temp65_perc), ('70 F', temp70_perc), ('75 F', temp75_perc), ('80 F', temp80_perc), \n",
    "# ('90 F', temp90_perc), ('100 F', temp100_perc)])\n"
   ]
  },
  {
   "cell_type": "markdown",
   "metadata": {},
   "source": [
    "Chart 3 Code"
   ]
  },
  {
   "cell_type": "code",
   "execution_count": 17,
   "metadata": {},
   "outputs": [],
   "source": [
    "\n",
    "def chart_three(Patron = 1):\n",
    "       Patron -= 1\n",
    "       x = domain\n",
    "       y = [npData[Patron][deg0]\n",
    "       ,npData[Patron][deg10]\n",
    "       ,npData[Patron][deg20]\n",
    "       ,npData[Patron][deg30]\n",
    "       ,npData[Patron][deg40]\n",
    "       ,npData[Patron][deg45]\n",
    "       ,npData[Patron][deg50]\n",
    "       ,npData[Patron][deg55]\n",
    "       ,npData[Patron][deg60]\n",
    "       ,npData[Patron][deg65]\n",
    "       ,npData[Patron][deg70]\n",
    "       ,npData[Patron][deg75]\n",
    "       ,npData[Patron][deg80]\n",
    "       ,npData[Patron][deg90]\n",
    "       ,npData[Patron][deg100]\n",
    "       ]\n",
    "\n",
    "       fig, ax = plt.subplots()\n",
    "       ax.step(x, y, linewidth=2.5)\n",
    "\n",
    "       ax.set(xlim=(0, 100),\n",
    "       ylim=(-0.2, 1.2), xticks=domain)\n",
    "\n",
    "\n",
    "\n",
    "# chart3_text = widgets.HTML(\n",
    "#         value=\"<h1>Select a Patron ID to view their responses. 1 = YES and 0 = NO</h1>\",\n",
    "#     )\n",
    "\n",
    "# display(chart3_text)\n",
    "\n",
    "# display_list = []\n",
    "\n",
    "# for x in range(1,num_records +1):\n",
    "#        display_list.append(x)\n",
    "\n",
    "# widgets.interact(chart_three, Patron = display_list)\n",
    "\n"
   ]
  },
  {
   "cell_type": "markdown",
   "metadata": {},
   "source": [
    "Decision Tree Code"
   ]
  },
  {
   "cell_type": "code",
   "execution_count": 18,
   "metadata": {},
   "outputs": [],
   "source": [
    "\n",
    "domainPerc = {\n",
    "    0 : temp0_perc\n",
    "    ,10 : temp10_perc\n",
    "    ,20 : temp20_perc\n",
    "    ,30 : temp30_perc\n",
    "    ,40 : temp40_perc\n",
    "    ,45 : temp45_perc\n",
    "    ,50 : temp50_perc\n",
    "    ,55 : temp55_perc\n",
    "    ,60 : temp60_perc\n",
    "    ,65 : temp65_perc\n",
    "    ,70 : temp70_perc\n",
    "    ,75 : temp75_perc\n",
    "    ,80 : temp80_perc\n",
    "    ,90 : temp90_perc\n",
    "    ,100 : temp100_perc\n",
    "}\n",
    "\n",
    "def makeDecision(temp, low, high):\n",
    "\n",
    "    if high == low:\n",
    "        return domainPerc.get(low) > 50\n",
    "    \n",
    "    low_perc = domainPerc.get(low)\n",
    "    # print(low, 'low perc', low_perc)\n",
    "    high_perc = domainPerc.get(high)\n",
    "    # print(high, 'high perc', high_perc)\n",
    "    \n",
    "    slope = (low_perc - high_perc) / (high - low)\n",
    "    # print('slope', slope)\n",
    "\n",
    "    perc = low_perc - (slope*(temp-low))\n",
    "    # print('perc', perc)\n",
    "\n",
    "    if perc > 50:\n",
    "        return True\n",
    "    else:\n",
    "        return False"
   ]
  },
  {
   "cell_type": "markdown",
   "metadata": {},
   "source": [
    "Recursion Code"
   ]
  },
  {
   "cell_type": "code",
   "execution_count": 19,
   "metadata": {},
   "outputs": [],
   "source": [
    "\n",
    "def recursiveDecisionTree(temp, n=len(domain)-1):\n",
    "\n",
    "    if temp < 0:\n",
    "        return makeDecision(0, 0, 0)\n",
    "    \n",
    "    if temp > 100:\n",
    "        return makeDecision(100, 100, 100)\n",
    "    \n",
    "    if temp < domain[n]:\n",
    "        return recursiveDecisionTree(temp, n-1)\n",
    "\n",
    "    if temp > domain[n]:\n",
    "        return makeDecision(temp, domain[n], domain[n+1])\n",
    "\n",
    "    if temp == domain[n]:\n",
    "        return makeDecision(temp, temp, temp)\n",
    "\n",
    "\n",
    "def chart_four(degreesF):\n",
    "    \n",
    "    choice = recursiveDecisionTree(degreesF)\n",
    "\n",
    "    if choice:\n",
    "        text = widgets.HTML(\"<h2>Wear a jacket!</h2>\")\n",
    "    else:\n",
    "        text = widgets.HTML(\"<h2>Do NOT wear a jacket!</h2>\")\n",
    "\n",
    "    display(text)\n",
    "\n",
    "# chart4_text = widgets.HTML(\n",
    "#         value=\"<h1>Enter a temperature between 0 and 100 degrees F to view our recommendation!</h1>\",\n",
    "#     )\n",
    "\n",
    "# display(chart4_text)\n",
    "    \n",
    "# chart4_input = widgets.BoundedIntText(value=50, min=0, max=100, description='Degrees F:')\n",
    "\n",
    "\n",
    "# widgets.interact(chart_four, degreesF=chart4_input)\n",
    "\n"
   ]
  },
  {
   "cell_type": "markdown",
   "metadata": {},
   "source": [
    "Final Product. Run the cell below to view the dashboard"
   ]
  },
  {
   "cell_type": "code",
   "execution_count": 20,
   "metadata": {},
   "outputs": [
    {
     "data": {
      "application/vnd.jupyter.widget-view+json": {
       "model_id": "13b6dcb34b8d467894f454af9f03acd3",
       "version_major": 2,
       "version_minor": 0
      },
      "text/plain": [
       "HTML(value='<h1>Would You Wear a Jacket?</h1>')"
      ]
     },
     "metadata": {},
     "output_type": "display_data"
    },
    {
     "data": {
      "application/vnd.jupyter.widget-view+json": {
       "model_id": "bcc0ffbac8914b9695d984569b2ce153",
       "version_major": 2,
       "version_minor": 0
      },
      "text/plain": [
       "HTML(value='<p>This machine learning model is here to help you decide if you should take a jacket out today. B…"
      ]
     },
     "metadata": {},
     "output_type": "display_data"
    },
    {
     "data": {
      "application/vnd.jupyter.widget-view+json": {
       "model_id": "8f0ad8bfa62344d2834b20e8d6280864",
       "version_major": 2,
       "version_minor": 0
      },
      "text/plain": [
       "HTML(value=\"<h3>'Would You Wear a Jacket?' Dataset overview:</h3>\")"
      ]
     },
     "metadata": {},
     "output_type": "display_data"
    },
    {
     "data": {
      "image/png": "[encoded data removed]",
      "text/plain": [
       "<Figure size 432x288 with 1 Axes>"
      ]
     },
     "metadata": {
      "needs_background": "light"
     },
     "output_type": "display_data"
    },
    {
     "data": {
      "application/vnd.jupyter.widget-view+json": {
       "model_id": "507e684d173d493bab34e019ef808a35",
       "version_major": 2,
       "version_minor": 0
      },
      "text/plain": [
       "HTML(value='<h3>Select a temperature to view more data from the survey.</h3>')"
      ]
     },
     "metadata": {},
     "output_type": "display_data"
    },
    {
     "data": {
      "application/vnd.jupyter.widget-view+json": {
       "model_id": "34a5f22207b94353b45673a819b85457",
       "version_major": 2,
       "version_minor": 0
      },
      "text/plain": [
       "interactive(children=(Dropdown(description='Degrees', index=6, options=(('0 F', 97.5609756097561), ('10 F', 98…"
      ]
     },
     "metadata": {},
     "output_type": "display_data"
    },
    {
     "data": {
      "application/vnd.jupyter.widget-view+json": {
       "model_id": "038b1ca7ec804f72816a80260df4048b",
       "version_major": 2,
       "version_minor": 0
      },
      "text/plain": [
       "HTML(value='<h3>Select a Patron ID to view their responses. 1 = YES and 0 = NO</h3>')"
      ]
     },
     "metadata": {},
     "output_type": "display_data"
    },
    {
     "data": {
      "application/vnd.jupyter.widget-view+json": {
       "model_id": "f33deeb0b1624a65a66062cf39b55d59",
       "version_major": 2,
       "version_minor": 0
      },
      "text/plain": [
       "interactive(children=(Dropdown(description='Patron', options=(1, 2, 3, 4, 5, 6, 7, 8, 9, 10, 11, 12, 13, 14, 1…"
      ]
     },
     "metadata": {},
     "output_type": "display_data"
    },
    {
     "data": {
      "application/vnd.jupyter.widget-view+json": {
       "model_id": "c216e79962b34a7da0cba73badc18aba",
       "version_major": 2,
       "version_minor": 0
      },
      "text/plain": [
       "HTML(value='<h1>Machine Learning</h1>')"
      ]
     },
     "metadata": {},
     "output_type": "display_data"
    },
    {
     "data": {
      "application/vnd.jupyter.widget-view+json": {
       "model_id": "214fddeaebc84150a9b46c09ae686374",
       "version_major": 2,
       "version_minor": 0
      },
      "text/plain": [
       "HTML(value=\"<h3>Enter a temperature between 0 and 100 degrees F to view the model's recommendation!</h3>\")"
      ]
     },
     "metadata": {},
     "output_type": "display_data"
    },
    {
     "data": {
      "application/vnd.jupyter.widget-view+json": {
       "model_id": "7713d11f35fb42c19eee7e9c9895fc31",
       "version_major": 2,
       "version_minor": 0
      },
      "text/plain": [
       "HTML(value=\"<p>Press 'TAB' to submit!<p>\")"
      ]
     },
     "metadata": {},
     "output_type": "display_data"
    },
    {
     "data": {
      "application/vnd.jupyter.widget-view+json": {
       "model_id": "81e4d0cc27eb41d2853117b4df4567f5",
       "version_major": 2,
       "version_minor": 0
      },
      "text/plain": [
       "interactive(children=(BoundedIntText(value=50, description='Degrees F:'), Output()), _dom_classes=('widget-int…"
      ]
     },
     "metadata": {},
     "output_type": "display_data"
    },
    {
     "data": {
      "application/vnd.jupyter.widget-view+json": {
       "model_id": "ef9e74ef796f4cf9b795867f9e342d6c",
       "version_major": 2,
       "version_minor": 0
      },
      "text/plain": [
       "HTML(value='<h2>Wear a jacket!</h2>')"
      ]
     },
     "metadata": {},
     "output_type": "display_data"
    },
    {
     "data": {
      "application/vnd.jupyter.widget-view+json": {
       "model_id": "5311bd6e6fac4c78b6c0b0956f332bb5",
       "version_major": 2,
       "version_minor": 0
      },
      "text/plain": [
       "HTML(value='<h3>Thanks for reviewing my project!</h3>')"
      ]
     },
     "metadata": {},
     "output_type": "display_data"
    }
   ],
   "source": [
    "\n",
    "Title = widgets.HTML(\n",
    "        value=\"<h1>Would You Wear a Jacket?</h1>\",\n",
    "    )\n",
    "display(Title)\n",
    "\n",
    "paragraph1 = widgets.HTML(\n",
    "        value=\"<p>This machine learning model is here to help you decide if you should take a jacket out today. Below you will find<br>an overview of the dataset taken from answers to an anonymous survey! You will also find some more charts<br> that will allow you to explore the dataset yourself. At the bottom of this page I have included the recommendation<br>engine powered by machine learning.</p>\",\n",
    "    )\n",
    "display(paragraph1)\n",
    "\n",
    "#Chart 1 - Temperature Trend Overview ----------------------------------------------------------------------------------------------------------------------------------------------\n",
    "chart1_text = widgets.HTML(\n",
    "        value=\"<h3>'Would You Wear a Jacket?' Dataset overview:</h3>\",\n",
    "    )\n",
    "\n",
    "display(chart1_text)\n",
    "\n",
    "chart_one()\n",
    "\n",
    "\n",
    "#Chart 2 - Temperature Data --------------------------------------------------------------------------------------------------------------------------------------------------------\n",
    "chart2_text = widgets.HTML(\n",
    "        value=\"<h3>Select a temperature to view more data from the survey.</h3>\",\n",
    "    )\n",
    "\n",
    "display(chart2_text)\n",
    "\n",
    "widgets.interact(chart_two, Degrees = [('0 F',temp0_perc), ('10 F', temp10_perc), ('20 F', temp20_perc), ('30 F', temp30_perc), ('40 F', temp40_perc), ('45 F', temp45_perc), \n",
    "('50 F', temp50_perc), ('55 F', temp55_perc), ('60 F', temp60_perc), ('65 F', temp65_perc), ('70 F', temp70_perc), ('75 F', temp75_perc), ('80 F', temp80_perc), \n",
    "('90 F', temp90_perc), ('100 F', temp100_perc)])\n",
    "\n",
    "\n",
    "#Chart 3 - Patron Data -------------------------------------------------------------------------------------------------------------------------------------------------------------\n",
    "chart3_text = widgets.HTML(\n",
    "        value=\"<h3>Select a Patron ID to view their responses. 1 = YES and 0 = NO</h3>\",\n",
    "    )\n",
    "\n",
    "display(chart3_text)\n",
    "\n",
    "display_list = []\n",
    "\n",
    "for x in range(1,num_records +1):\n",
    "       display_list.append(x)\n",
    "\n",
    "widgets.interact(chart_three, Patron = display_list)\n",
    "\n",
    "\n",
    "#Chart 4 - Machine Learning --------------------------------------------------------------------------------------------------------------------------------------------------------\n",
    "chart4_title = widgets.HTML(\n",
    "        value=\"<h1>Machine Learning</h1>\",\n",
    "    )\n",
    "display(chart4_title)\n",
    "\n",
    "\n",
    "chart4_text = widgets.HTML(\n",
    "        value=\"<h3>Enter a temperature between 0 and 100 degrees F to view the model's recommendation!</h3>\",\n",
    "    )\n",
    "display(chart4_text)\n",
    "\n",
    "chart4_desc = widgets.HTML(\n",
    "        value=\"<p>Press 'TAB' to submit!<p>\",\n",
    "    )\n",
    "display(chart4_desc)\n",
    "    \n",
    "chart4_input = widgets.BoundedIntText(value=50, min=0, max=100, description='Degrees F:')\n",
    "\n",
    "\n",
    "widgets.interact(chart_four, degreesF=chart4_input)\n",
    "\n",
    "final_text = widgets.HTML(\n",
    "        value=\"<h3>Thanks for reviewing my project!</h3>\",\n",
    "    )\n",
    "\n",
    "display(final_text)\n"
   ]
  }
 ],
 "metadata": {
  "interpreter": {
   "hash": "aee8b7b246df8f9039afb4144a1f6fd8d2ca17a180786b69acc140d282b71a49"
  },
  "kernelspec": {
   "display_name": "Python 3.9.7 64-bit",
   "language": "python",
   "name": "python3"
  },
  "language_info": {
   "codemirror_mode": {
    "name": "ipython",
    "version": 3
   },
   "file_extension": ".py",
   "mimetype": "text/x-python",
   "name": "python",
   "nbconvert_exporter": "python",
   "pygments_lexer": "ipython3",
   "version": "3.9.7"
  },
  "orig_nbformat": 4
 },
 "nbformat": 4,
 "nbformat_minor": 2
}
